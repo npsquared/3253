{
 "cells": [
  {
   "cell_type": "markdown",
   "metadata": {
    "colab_type": "text",
    "id": "lQEaVvkhKbMg"
   },
   "source": [
    "### Your name:\n",
    "\n",
    "<pre> Nitin Prakash Panicker</pre>\n"
   ]
  },
  {
   "cell_type": "code",
   "execution_count": 53,
   "metadata": {
    "colab": {},
    "colab_type": "code",
    "collapsed": true,
    "id": "NgrYXw9lKbMi"
   },
   "outputs": [],
   "source": [
    "import matplotlib\n",
    "import matplotlib.pyplot as plt\n",
    "import numpy as np\n",
    "import pandas as pd\n",
    "import csv\n",
    "import random\n",
    "import math\n",
    "import operator"
   ]
  },
  {
   "cell_type": "markdown",
   "metadata": {
    "colab_type": "text",
    "id": "VNfyDjspKbMn"
   },
   "source": [
    "Markdown referece can be found here:\n",
    "    http://nestacms.com/docs/creating-content/markdown-cheat-sheet"
   ]
  },
  {
   "cell_type": "markdown",
   "metadata": {
    "colab_type": "text",
    "id": "87hqBFP6KbMo"
   },
   "source": [
    "Q1. Why would it be a problem if our training set and test set are the same."
   ]
  },
  {
   "cell_type": "markdown",
   "metadata": {
    "colab_type": "text",
    "id": "S9aiLmRzKbMp"
   },
   "source": [
    "Same training and test set would mean that your machine learning model may perform remarkabley well. However, you cannot truly meaure the performance of such a model because your model already knows all the right answers and questions. \n",
    "The model may provide good results during testing, but will most likely fail against real world data after being deployed."
   ]
  },
  {
   "cell_type": "markdown",
   "metadata": {
    "colab_type": "text",
    "id": "a411CdNaKbMq"
   },
   "source": [
    "Q2 [OPTIONAL]. Explain step by step the process to select k in the k-nearest neighbor algorithm (pseudocode) "
   ]
  },
  {
   "cell_type": "markdown",
   "metadata": {
    "colab_type": "text",
    "id": "Aj_UeKLxKbMq"
   },
   "source": [
    "* Load the data\n",
    "* Initialise the value of k\n",
    "* For getting the predicted class, iterate from 1 to total number of training data points\n",
    "    * Calculate the distance between test data and each row of training data. \n",
    "    * Sort the calculated distances in ascending order based on distance values\n",
    "    * Get top k rows from the sorted array\n",
    "    * Get the most frequent class of these rows\n",
    "    * Return the predicted class"
   ]
  },
  {
   "cell_type": "markdown",
   "metadata": {
    "colab_type": "text",
    "id": "yscyoRdEKbMr"
   },
   "source": [
    "Q3. For the k-nearest regression. What happens when k = n, where n is equal to the training size."
   ]
  },
  {
   "cell_type": "markdown",
   "metadata": {
    "colab_type": "text",
    "id": "HHUJDb9QKbMs"
   },
   "source": [
    "If we choose K to be equal to the number of data points (n), and there are more data points of one category than another category, then the model runs the risk of classifying the whole distribution as the category with majority data points.\n",
    "\n",
    "With large values of K, then we may end up smoothing things out too much and eliminating some important details in the distribution. We may also end up looking at samples that are not neighbors."
   ]
  },
  {
   "cell_type": "markdown",
   "metadata": {
    "colab_type": "text",
    "id": "Yn22AqahKbMt"
   },
   "source": [
    "Q4. Define a function that takes a 1-d numpy array, a parameter k, and a number p.\n",
    "The function returns an estimate equal to the mean of the closest k points to the number p"
   ]
  },
  {
   "cell_type": "code",
   "execution_count": 54,
   "metadata": {
    "colab": {},
    "colab_type": "code",
    "collapsed": true,
    "id": "zuSW6W4UKbMt"
   },
   "outputs": [],
   "source": [
    "def euclidean(pointA, pointB):\n",
    "    distance = 0\n",
    "    distance += pow((pointA - pointB), 2)\n",
    "    return math.sqrt(distance)\n",
    "\n",
    "def k_neighbor(input_data, k, p):\n",
    "    \"\"\"Returns the k-neighbor estimate for p using data input_data.\n",
    "    \n",
    "    Keyword arguments:\n",
    "    input_data -- numpy array of all the data\n",
    "    k -- Number of k\n",
    "    p -- input values\n",
    "    \n",
    "    If you make assumptions please explain them in the comments. i.e. tie breaking strategy.\n",
    "    \"\"\"\n",
    "    \n",
    "    # YOUR CODE HERE.\n",
    "    distances = []\n",
    "    for x in range(len(input_data)):\n",
    "        dist = euclidean(p, input_data[x])\n",
    "        distances.append((input_data[x], dist)) #storing data point and its corresponding distance from P.\n",
    "    distances.sort(key=operator.itemgetter(1)) #sorting by index 1, i.e. the distance values\n",
    "    neighbors = []\n",
    "    for x in range(k):\n",
    "        neighbors.append(distances[x][0])    \n",
    "    \n",
    "    # return answer\n",
    "    return np.mean(neighbors)"
   ]
  },
  {
   "cell_type": "code",
   "execution_count": null,
   "metadata": {
    "colab": {},
    "colab_type": "code",
    "collapsed": true,
    "id": "x6gg3dZTKbMw"
   },
   "outputs": [],
   "source": []
  },
  {
   "cell_type": "code",
   "execution_count": 55,
   "metadata": {
    "colab": {},
    "colab_type": "code",
    "id": "oR-o6jP8KbMz"
   },
   "outputs": [
    {
     "name": "stdout",
     "output_type": "stream",
     "text": [
      "4.0\n",
      "14.0\n",
      "26.0\n",
      "40.0\n",
      "31.3333333333\n",
      "19.6\n"
     ]
    }
   ],
   "source": [
    "# Evaluate\n",
    "data = np.array([1,3,4,5,7,8,11,12,13,15,19,24,25,29,40])\n",
    "print(k_neighbor(input_data=data, k=3, p=5))\n",
    "print(k_neighbor(input_data=data, k=2, p=15))\n",
    "print(k_neighbor(input_data=data, k=3, p=25))\n",
    "print(k_neighbor(input_data=data, k=1, p=55))\n",
    "print(k_neighbor(input_data=data, k=3, p=55))\n",
    "print(k_neighbor(input_data=data, k=10, p=55))"
   ]
  },
  {
   "cell_type": "code",
   "execution_count": 56,
   "metadata": {
    "colab": {},
    "colab_type": "code",
    "collapsed": true,
    "id": "eqBbtA_0KbM3"
   },
   "outputs": [],
   "source": [
    "# Enter your observations and comments here\n",
    "# sort(key=operator.itemgetter(1)) - allows us to sort without having to worry about explicitly keeping track of the index.\n",
    "# Euclidean distance was used as the distance metric. \n",
    "# closest data point for k = 1, when p exists as a data point is p itself. \n"
   ]
  },
  {
   "cell_type": "markdown",
   "metadata": {
    "colab_type": "text",
    "id": "_ssEbpZbKbM_"
   },
   "source": [
    "Q5. Similar to Q4 but for the n dimensional case. "
   ]
  },
  {
   "cell_type": "code",
   "execution_count": 57,
   "metadata": {
    "colab": {},
    "colab_type": "code",
    "id": "v7Ty-g47KbNA"
   },
   "outputs": [],
   "source": [
    "def l1_norm(a,b,length):\n",
    "    \"\"\"Returns the l1 norm (a,b)\"\"\"\n",
    "    distance = 0\n",
    "    for x in range(length):\n",
    "        distance += abs(a[x] - b[x])\n",
    "    return distance\n",
    "    \n",
    "\n",
    "def l2_norm(a, b, length):\n",
    "    \"\"\"Returns the l2 norm (a,b)\"\"\"\n",
    "    distance = 0\n",
    "    for x in range(length):\n",
    "        distance += pow((a[x] - b[x]), 2)\n",
    "    return math.sqrt(distance)\n",
    "    \n",
    "def k_neighbor_nd(input_data, k, p, metric='l1', mode='mean'):\n",
    "    \"\"\"Returns the k-neighbor estimate for p using data input_data.\n",
    "\n",
    "    Keyword arguments:\n",
    "    input_data -- numpy array of all the data\n",
    "    k -- Number of k\n",
    "    p -- input values\n",
    "    metric -- l1 or l2. l1 norm or l2 norm https://en.wikipedia.org/wiki/Norm_(mathematics)\n",
    "    mode -- estimator possible values = 'mean', 'median', 'max'\n",
    "    \n",
    "    Implement the l1 and l2 norms\n",
    "    for mean, median and max, use np.mean, np.median and np.max\n",
    "    \"\"\"\n",
    "    \n",
    "    # YOUR CODE HERE\n",
    "    distances = []\n",
    "    length = len(p) - 1\n",
    "    if metric=='l2':\n",
    "        for x in range(len(input_data)):\n",
    "            dist = l2_norm(p, input_data[x], length)\n",
    "            distances.append((input_data[x], dist))\n",
    "            \n",
    "    elif metric=='l1':\n",
    "        for x in range(len(input_data)):\n",
    "            dist = l1_norm(p, input_data[x], length)\n",
    "            distances.append((input_data[x], dist))\n",
    "            \n",
    "    distances.sort(key=operator.itemgetter(1))\n",
    "    neighbors = []\n",
    "    for x in range(k):\n",
    "        neighbors.append(distances[x][0])\n",
    "    \n",
    "    \n",
    "    # return answer\n",
    "    if mode=='mean':\n",
    "        return np.mean(neighbors)\n",
    "    elif mode=='median':\n",
    "        return np.median(neighbors)\n",
    "    elif mode=='max':\n",
    "        return np.amax(neighbors)\n",
    "   "
   ]
  },
  {
   "cell_type": "code",
   "execution_count": 58,
   "metadata": {
    "colab": {},
    "colab_type": "code",
    "collapsed": true,
    "id": "tnANz4DiKbND"
   },
   "outputs": [],
   "source": [
    "data_4d = np.array([[4, 1, 2, 1], [1, 4, 2, 0], [3, 3, 1, 1], \n",
    "        [4, 0, 0, 0], [1, 2, 0, 0], [3, 4, 2, 3], \n",
    "        [2, 4, 4, 2], [2, 1, 4, 1], [3, 3, 2, 4], \n",
    "        [4, 3, 0, 4], [2, 2, 4, 0],[4, 3, 0, 2], \n",
    "        [4, 3, 0, 2], [0, 3, 4, 2]])"
   ]
  },
  {
   "cell_type": "code",
   "execution_count": 59,
   "metadata": {
    "colab": {},
    "colab_type": "code",
    "id": "P9LaN0ooKbNH"
   },
   "outputs": [
    {
     "name": "stdout",
     "output_type": "stream",
     "text": [
      "2.33333333333\n",
      "2.5\n",
      "4\n",
      "3.0\n",
      "2.5\n",
      "2.0\n",
      "2.5\n",
      "4\n",
      "3.0\n",
      "2.5\n"
     ]
    }
   ],
   "source": [
    "# Evaluate\n",
    "data = np.array([1,3,4,5,7,8,11,12,13,15,19,24,25,29,40])\n",
    "print(k_neighbor_nd(input_data=data_4d, k=3, p=[2, 1, 4, 3], metric='l1', mode='mean'))\n",
    "print(k_neighbor_nd(input_data=data_4d, k=2, p=[4, 4, 0, 0], metric='l1', mode='mean'))\n",
    "print(k_neighbor_nd(input_data=data_4d, k=3, p=[2, 2, 2, 4], metric='l1', mode='max'))\n",
    "print(k_neighbor_nd(input_data=data_4d, k=1, p=[2, 3, 3, 4], metric='l1', mode='mean'))\n",
    "print(k_neighbor_nd(input_data=data_4d, k=3, p=[2, 3, 3, 4], metric='l1', mode='median'))\n",
    "print(k_neighbor_nd(input_data=data_4d, k=3, p=[2, 1, 4, 3], metric='l2', mode='mean'))\n",
    "print(k_neighbor_nd(input_data=data_4d, k=2, p=[4, 4, 0, 0], metric='l2', mode='mean'))\n",
    "print(k_neighbor_nd(input_data=data_4d, k=3, p=[2, 2, 2, 4], metric='l2', mode='max'))\n",
    "print(k_neighbor_nd(input_data=data_4d, k=1, p=[2, 3, 3, 4], metric='l2', mode='mean'))\n",
    "print(k_neighbor_nd(input_data=data_4d, k=3, p=[2, 3, 3, 4], metric='l2', mode='median'))"
   ]
  },
  {
   "cell_type": "code",
   "execution_count": 60,
   "metadata": {
    "colab": {},
    "colab_type": "code",
    "collapsed": true,
    "id": "w564SmecKbNJ"
   },
   "outputs": [],
   "source": [
    "# Enter your observations and comments here\n",
    "# l1 norm is the manhattan distance between two data points\n",
    "# l2 norm is the euclidean distance between data points\n"
   ]
  },
  {
   "cell_type": "markdown",
   "metadata": {
    "colab_type": "text",
    "id": "DnLP9SuqKbNM"
   },
   "source": [
    "Q6[Optional]. Read the documentation on KNeighborsRegressor\n",
    "\n",
    "http://scikit-learn.org/stable/modules/generated/sklearn.neighbors.KNeighborsRegressor.html\n",
    "    \n",
    "Explore the source code:\n",
    "    https://github.com/scikit-learn/scikit-learn/blob/ef5cb84a/sklearn/neighbors/regression.py\n",
    "        \n",
    "How different it is from your implementation? How well can you follow the code? Did you learn something new?"
   ]
  },
  {
   "cell_type": "markdown",
   "metadata": {
    "colab_type": "text",
    "id": "VxlLZUrTKbNM"
   },
   "source": [
    "<pre> ENTER SOLUTION HERE </pre>"
   ]
  }
 ],
 "metadata": {
  "colab": {
   "name": "W01_LastName_UTORid.ipynb",
   "provenance": [],
   "version": "0.3.2"
  },
  "kernelspec": {
   "display_name": "Python 3",
   "language": "python",
   "name": "python3"
  },
  "language_info": {
   "codemirror_mode": {
    "name": "ipython",
    "version": 3
   },
   "file_extension": ".py",
   "mimetype": "text/x-python",
   "name": "python",
   "nbconvert_exporter": "python",
   "pygments_lexer": "ipython3",
   "version": "3.6.3"
  }
 },
 "nbformat": 4,
 "nbformat_minor": 1
}
